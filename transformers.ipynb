{
 "cells": [
  {
   "cell_type": "markdown",
   "id": "d7d39543-1d95-4371-bce4-b8276f925f82",
   "metadata": {},
   "source": [
    "from_pretrained() from the AutoTokenizer class is used to download preprocessing information from a model's hub. Using the checkpoint name of the model, it will automatically fetch the data associated with the model's tokenizer. "
   ]
  },
  {
   "cell_type": "code",
   "execution_count": 2,
   "id": "314f1be4-1ac4-440c-a2a5-47a301cd7fa2",
   "metadata": {},
   "outputs": [],
   "source": [
    "from transformers import AutoTokenizer"
   ]
  },
  {
   "cell_type": "code",
   "execution_count": null,
   "id": "2e15b48b-d4c5-4842-b696-a4d05e88a000",
   "metadata": {},
   "outputs": [],
   "source": [
    "checkpoint = \"distilbert-base-uncased-finetuned-sst-2-english\"\n",
    "tokenizer = AutoTokenizer.from_pretrained(checkpoint)"
   ]
  },
  {
   "cell_type": "code",
   "execution_count": null,
   "id": "ef25adcd-b85a-4ae5-a7f3-73c0a377c019",
   "metadata": {},
   "outputs": [],
   "source": []
  }
 ],
 "metadata": {
  "kernelspec": {
   "display_name": "Python 3 (ipykernel)",
   "language": "python",
   "name": "python3"
  },
  "language_info": {
   "codemirror_mode": {
    "name": "ipython",
    "version": 3
   },
   "file_extension": ".py",
   "mimetype": "text/x-python",
   "name": "python",
   "nbconvert_exporter": "python",
   "pygments_lexer": "ipython3",
   "version": "3.10.12"
  }
 },
 "nbformat": 4,
 "nbformat_minor": 5
}
